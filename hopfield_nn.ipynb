{
 "cells": [
  {
   "cell_type": "markdown",
   "metadata": {
    "collapsed": true,
    "pycharm": {
     "name": "#%% md\n"
    }
   },
   "source": [
    "# Sieć hopfielda\n",
    "\n",
    "## Szablon klasy"
   ]
  },
  {
   "cell_type": "code",
   "execution_count": 2,
   "outputs": [],
   "source": [
    "import numpy as np\n",
    "\n",
    "class HopfieldNN:\n",
    "    def __init__(self, height, width):\n",
    "        n = height * width\n",
    "\n",
    "        self.weights = np.zeros((n, n))\n",
    "\n",
    "    def train_image(self, img):\n",
    "        # korekcja wag\n",
    "        pass\n",
    "\n",
    "    def recognize_image(self, img):\n",
    "        # kroki naprawiajace obraz\n",
    "        # ...\n",
    "\n",
    "        # False jezeli obraz nie zostal zmieniony\n",
    "        return False\n",
    "\n",
    "\n"
   ],
   "metadata": {
    "collapsed": false,
    "pycharm": {
     "name": "#%%\n"
    }
   }
  }
 ],
 "metadata": {
  "kernelspec": {
   "display_name": "Python 3",
   "language": "python",
   "name": "python3"
  },
  "language_info": {
   "codemirror_mode": {
    "name": "ipython",
    "version": 2
   },
   "file_extension": ".py",
   "mimetype": "text/x-python",
   "name": "python",
   "nbconvert_exporter": "python",
   "pygments_lexer": "ipython2",
   "version": "2.7.6"
  }
 },
 "nbformat": 4,
 "nbformat_minor": 0
}